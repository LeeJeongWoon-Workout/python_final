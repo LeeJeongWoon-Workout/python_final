{
  "nbformat": 4,
  "nbformat_minor": 0,
  "metadata": {
    "colab": {
      "name": "Untitled31.ipynb",
      "provenance": [],
      "authorship_tag": "ABX9TyOZiWEAgmHS7WUqOFcE0M4t",
      "include_colab_link": true
    },
    "kernelspec": {
      "name": "python3",
      "display_name": "Python 3"
    },
    "language_info": {
      "name": "python"
    }
  },
  "cells": [
    {
      "cell_type": "markdown",
      "metadata": {
        "id": "view-in-github",
        "colab_type": "text"
      },
      "source": [
        "<a href=\"https://colab.research.google.com/github/LeeJeongWoon-Workout/python_final/blob/main/remote.ipynb\" target=\"_parent\"><img src=\"https://colab.research.google.com/assets/colab-badge.svg\" alt=\"Open In Colab\"/></a>"
      ]
    },
    {
      "cell_type": "code",
      "metadata": {
        "id": "k7oOuGI6i8Fp"
      },
      "source": [
        "class RemoteControl:\n",
        "  def __init__(self):\n",
        "    self.__enabledChannelList=list()\n",
        "    self.__enabledChannelList.append([])\n",
        "\n",
        "  def powerOnRemoteControl(self,data_list):\n",
        "    for i in data_list:\n",
        "      i.append(0)\n",
        "      self.__enabledChannelList.append(i)\n",
        "    \n",
        "    self.__enabledChannelList[0]=self.__enabledChannelList[1]\n",
        "    return len(data_list)\n",
        "  \n",
        "  def gotoChannel(self,data):\n",
        "    for lst in self.__enabledChannelList:\n",
        "      if data in lst:\n",
        "        self.__enabledChannelList[0]=lst\n",
        "        return lst[1]\n",
        "    \n",
        "    return self.__enabledChannelList[0][1]\n",
        "\n",
        "  def nextChannel(self):\n",
        "    index=1\n",
        "    for lst in self.__enabledChannelList[1:]:\n",
        "      if self.__enabledChannelList[0]==lst:\n",
        "        if index==len(self.__enabledChannelList)-1:\n",
        "          self.__enabledChannelList[0]=self.__enabledChannelList[1]\n",
        "          break\n",
        "        self.__enabledChannelList[0]=self.__enabledChannelList[index+1]\n",
        "        break\n",
        "      index+=1\n",
        "    return self.__enabledChannelList[0][1]\n",
        "\n",
        "  def previousChannel(self):\n",
        "    index=1\n",
        "    for lst in self.__enabledChannelList[1:]:\n",
        "      if self.__enabledChannelList[0]==lst:\n",
        "        if index==1:\n",
        "          self.__enabledChannelList[0]=self.__enabledChannelList[-1]\n",
        "          break\n",
        "        self.__enabledChannelList[0]=self.__enabledChannelList[index-1]\n",
        "        break\n",
        "      index+=1\n",
        "    return self.__enabledChannelList[0][1]\n",
        "\n",
        "  def blockChannel(self):\n",
        "    block_channel=self.__enabledChannelList[0]\n",
        "    self.nextChannel()\n",
        "    self.__blockChannel=list()\n",
        "    self.__blockChannel.append(block_channel)\n",
        "    self.__enabledChannelList.remove(block_channel)\n",
        "    return self.__enabledChannelList[0][1]\n",
        "\n",
        "\n",
        "  def unblockChannel(self,data):\n",
        "    unblock=None\n",
        "    for i in self.__blockChannel:\n",
        "      if data in i:\n",
        "        unblock=i\n",
        "        sort_list=self.__enabledChannelList[1:-1]\n",
        "        sort_list.append(unblock)\n",
        "        sort_list.sort()\n",
        "        self.__enabledChannelList=self.__enabledChannelList[0]\n",
        "        self.__enabledChannelList.extend(sort_list)\n",
        "        return 1\n",
        "\n",
        "    return -1\n",
        "\n",
        "  def favorChannel(self):\n",
        "    for lst in self.__enabledChannelList[1:]:\n",
        "      if self.__enabledChannelList[0]==lst:\n",
        "        lst[2]+=1\n",
        "        return 1\n",
        "    \n",
        "    return -1\n",
        "\n",
        "  def aiNextChannel(self):\n",
        "    lst=self.__enabledChannelList[1:]\n",
        "    lst.sort(reverse=True,key=lambda x:x[2])\n",
        "\n",
        "    for i in range(len(lst)):\n",
        "      if self.__enabledChannelList[0]==lst[i]:\n",
        "        if i==len(self.__enabledChannelList)-1:\n",
        "          self.__enabledChannelList[0]=lst[0]\n",
        "        self.__enabledChannelList[0]=lst[i+1]\n",
        "      return self.__enabledChannelList[0][0]\n",
        "\n",
        "  def aiPreviousChannel(self):\n",
        "    lst=self.__enabledChannelList[1:]\n",
        "    lst.sort(key=lambda x:x[2])\n",
        "\n",
        "    for i in range(len(lst)):\n",
        "      if self.__enabledChannelList[0]==lst[i]:\n",
        "        if i==len(self.__enabledChannelList)-1:\n",
        "          self.__enabledChannelList[0]=lst[0]\n",
        "        self.__enabledChannelList[0]=lst[i+1]\n",
        "      return self.__enabledChannelList[0][0]"
      ],
      "execution_count": 66,
      "outputs": []
    },
    {
      "cell_type": "code",
      "metadata": {
        "colab": {
          "base_uri": "https://localhost:8080/"
        },
        "id": "IcU9_hWYjY7X",
        "outputId": "eabb4133-78c5-4fa8-970e-c4f52c5bd626"
      },
      "source": [
        "remote1=RemoteControl()\n",
        "remote1.powerOnRemoteControl([[6, \"SBS\"], [7, \"KBS2\"], [9, \"KBS1\"], [11, \"MBC\"] ])\n",
        "remote1.aiPreviousChannel()"
      ],
      "execution_count": 67,
      "outputs": [
        {
          "output_type": "execute_result",
          "data": {
            "text/plain": [
              "7"
            ]
          },
          "metadata": {},
          "execution_count": 67
        }
      ]
    },
    {
      "cell_type": "code",
      "metadata": {
        "colab": {
          "base_uri": "https://localhost:8080/"
        },
        "id": "gHfcgi0tj6fJ",
        "outputId": "745e9693-41d5-4df3-c230-d271d318423c"
      },
      "source": [
        ""
      ],
      "execution_count": 58,
      "outputs": [
        {
          "output_type": "execute_result",
          "data": {
            "text/plain": [
              "1"
            ]
          },
          "metadata": {},
          "execution_count": 58
        }
      ]
    },
    {
      "cell_type": "code",
      "metadata": {
        "id": "kKNSc64VkaB8"
      },
      "source": [
        ""
      ],
      "execution_count": null,
      "outputs": []
    },
    {
      "cell_type": "code",
      "metadata": {
        "id": "xJ-n4dIGkj1h"
      },
      "source": [
        ""
      ],
      "execution_count": null,
      "outputs": []
    }
  ]
}