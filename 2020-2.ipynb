{
  "nbformat": 4,
  "nbformat_minor": 0,
  "metadata": {
    "colab": {
      "name": "Untitled31.ipynb",
      "provenance": [],
      "authorship_tag": "ABX9TyN01f1r68Q/ES+sF0tccDoV",
      "include_colab_link": true
    },
    "kernelspec": {
      "name": "python3",
      "display_name": "Python 3"
    },
    "language_info": {
      "name": "python"
    }
  },
  "cells": [
    {
      "cell_type": "markdown",
      "metadata": {
        "id": "view-in-github",
        "colab_type": "text"
      },
      "source": [
        "<a href=\"https://colab.research.google.com/github/LeeJeongWoon-Workout/python_final/blob/main/2020-2.ipynb\" target=\"_parent\"><img src=\"https://colab.research.google.com/assets/colab-badge.svg\" alt=\"Open In Colab\"/></a>"
      ]
    },
    {
      "cell_type": "code",
      "metadata": {
        "id": "k7oOuGI6i8Fp"
      },
      "source": [
        "class MyselfClass():\n",
        "  def getStudentID(self):\n",
        "    return \"2018101282\"\n",
        "  \n",
        "  def getBirthday(self):\n",
        "    return \"19970416\"\n",
        "  \n",
        "  def getTermProject(self):\n",
        "    return \"Lee Jeong Woon Python Final Term\"\n",
        "\n",
        "class IntegerAccumulator():\n",
        "  def __init__(self):\n",
        "    self.data_list=list()\n",
        "  \n",
        "  def getNewInteger(self,data):\n",
        "    self.data_list.append(data)\n",
        "    return int(sum(self.data_list)/len(self.data_list))\n",
        "\n",
        "  def getAccumulatedIntegrers(self):\n",
        "    return self.data_list\n",
        "\n",
        "  def getAverage(self):\n",
        "    return int(sum(self.data_list)/len(self.data_list))\n",
        "\n",
        "def calcIntgerFromString(str):\n",
        "  sum=0\n",
        "  for i in str:\n",
        "    try:\n",
        "      sum+=int(i)\n",
        "    except:\n",
        "      pass\n",
        "  return sum\n",
        "\n",
        "def shiftStringLeft(str):\n",
        "  new=str[1:]\n",
        "  new+=str[0]\n",
        "  return new\n",
        "\n",
        "class StringAccumulator():\n",
        "  def __init__(self):\n",
        "    self.data_list=list()\n",
        "  \n",
        "  def putNewStgring(self,str):\n",
        "    self.data_list.append(str)\n",
        "    return len(self.data_list)\n",
        "\n",
        "  def getMaxString(self):\n",
        "    lst=self.data_list.copy()\n",
        "    lst.sort(reverse=True)\n",
        "    return lst[0]\n",
        "\n",
        "  def getSortedStrings(self):\n",
        "    lst=self.data_list.copy()\n",
        "    lst.sort(reverse=True)\n",
        "    return lst\n",
        "\n",
        "  def getOriginalStrings(self):\n",
        "    return self.data_list"
      ],
      "execution_count": 94,
      "outputs": []
    },
    {
      "cell_type": "code",
      "metadata": {
        "colab": {
          "base_uri": "https://localhost:8080/"
        },
        "id": "IcU9_hWYjY7X",
        "outputId": "79ea73ca-3fd6-44a6-88f0-a5eb4c2af947"
      },
      "source": [
        "a=StringAccumulator()\n",
        "a.putNewStgring('a')\n",
        "a.putNewStgring('aa')\n",
        "a.putNewStgring('aaa')\n",
        "a.putNewStgring('aaaa')\n",
        "a.putNewStgring('aaaaa')\n",
        "a.getSortedStrings()\n",
        "a.getOriginalStrings()"
      ],
      "execution_count": 95,
      "outputs": [
        {
          "output_type": "execute_result",
          "data": {
            "text/plain": [
              "['a', 'aa', 'aaa', 'aaaa', 'aaaaa']"
            ]
          },
          "metadata": {},
          "execution_count": 95
        }
      ]
    },
    {
      "cell_type": "code",
      "metadata": {
        "colab": {
          "base_uri": "https://localhost:8080/"
        },
        "id": "gHfcgi0tj6fJ",
        "outputId": "745e9693-41d5-4df3-c230-d271d318423c"
      },
      "source": [
        ""
      ],
      "execution_count": 58,
      "outputs": [
        {
          "output_type": "execute_result",
          "data": {
            "text/plain": [
              "1"
            ]
          },
          "metadata": {},
          "execution_count": 58
        }
      ]
    },
    {
      "cell_type": "code",
      "metadata": {
        "id": "kKNSc64VkaB8"
      },
      "source": [
        ""
      ],
      "execution_count": null,
      "outputs": []
    },
    {
      "cell_type": "code",
      "metadata": {
        "id": "xJ-n4dIGkj1h"
      },
      "source": [
        ""
      ],
      "execution_count": null,
      "outputs": []
    }
  ]
}